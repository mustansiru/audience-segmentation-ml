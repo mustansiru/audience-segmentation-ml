{
 "cells": [
  {
   "cell_type": "markdown",
   "id": "fe60b2e3-5345-4397-9e32-b95d2608ff5a",
   "metadata": {},
   "source": [
    "# Setup the environment"
   ]
  },
  {
   "cell_type": "code",
   "execution_count": 15,
   "id": "1fc79181-519d-42c0-ba47-703d911e0ab7",
   "metadata": {},
   "outputs": [],
   "source": [
    "#!pip install --upgrade google-cloud-bigquery\n",
    "#!pip install --upgrade pyarrow\n",
    "\n",
    "import numpy as np\n",
    "import pandas as pd\n",
    "import seaborn as sns\n",
    "import matplotlib.pyplot as plt\n",
    "\n",
    "from google.cloud import bigquery"
   ]
  },
  {
   "cell_type": "markdown",
   "source": [
    "# Library Functions"
   ],
   "metadata": {
    "collapsed": false,
    "pycharm": {
     "name": "#%% md\n"
    }
   }
  },
  {
   "cell_type": "code",
   "execution_count": 10,
   "outputs": [],
   "source": [
    "def load_data_from_bq(sql, credential_json_file):\n",
    "\n",
    "    %load_ext google.cloud.bigquery\n",
    "\n",
    "    import os\n",
    "    from google.cloud import bigquery\n",
    "    from google.oauth2 import service_account\n",
    "\n",
    "    os.environ[\"GOOGLE_APPLICATION_CREDENTIALS\"]=credential_json_file\n",
    "    credentials = service_account.Credentials.from_service_account_file(credential_json_file)\n",
    "\n",
    "    bqclient = bigquery.Client(credentials=credentials)\n",
    "\n",
    "    # Download query results.\n",
    "    query_string = sql\n",
    "\n",
    "    df = (\n",
    "        bqclient.query(query_string)\n",
    "            .result()\n",
    "            .to_dataframe(\n",
    "            # Optionally, explicitly request to use the BigQuery Storage API. As of\n",
    "            # google-cloud-bigquery version 1.26.0 and above, the BigQuery Storage\n",
    "            # API is used by default.\n",
    "            create_bqstorage_client=True,\n",
    "        )\n",
    "    )\n",
    "\n",
    "    return df, bqclient"
   ],
   "metadata": {
    "collapsed": false,
    "pycharm": {
     "name": "#%%\n"
    }
   }
  },
  {
   "cell_type": "markdown",
   "source": [
    "# Load Data"
   ],
   "metadata": {
    "collapsed": false,
    "pycharm": {
     "name": "#%% md\n"
    }
   }
  },
  {
   "cell_type": "code",
   "execution_count": 12,
   "outputs": [
    {
     "name": "stdout",
     "output_type": "stream",
     "text": [
      "The google.cloud.bigquery extension is already loaded. To reload it, use:\n",
      "  %reload_ext google.cloud.bigquery\n"
     ]
    }
   ],
   "source": [
    "df_original, client = load_data_from_bq(sql=\"\"\"SELECT * FROM\n",
    "        `bigquery-public-data.google_analytics_sample.ga_sessions_20170801`\"\"\",\n",
    "                                credential_json_file=\"my-bq-project-338012-b4ab7ea646dc.json\")"
   ],
   "metadata": {
    "collapsed": false,
    "pycharm": {
     "name": "#%%\n"
    }
   }
  },
  {
   "cell_type": "code",
   "execution_count": 13,
   "outputs": [
    {
     "data": {
      "text/plain": "   visitorId  visitNumber     visitId  visitStartTime      date  \\\n0        NaN            1  1501583974      1501583974  20170801   \n1        NaN            1  1501616585      1501616585  20170801   \n2        NaN            1  1501583344      1501583344  20170801   \n3        NaN            1  1501573386      1501573386  20170801   \n4        NaN            8  1501651467      1501651467  20170801   \n\n                                              totals  \\\n0  {'visits': 1, 'hits': 1, 'pageviews': 1, 'time...   \n1  {'visits': 1, 'hits': 1, 'pageviews': 1, 'time...   \n2  {'visits': 1, 'hits': 1, 'pageviews': 1, 'time...   \n3  {'visits': 1, 'hits': 1, 'pageviews': 1, 'time...   \n4  {'visits': 1, 'hits': 1, 'pageviews': 1, 'time...   \n\n                                       trafficSource  \\\n0  {'referralPath': None, 'campaign': '(not set)'...   \n1  {'referralPath': None, 'campaign': '(not set)'...   \n2  {'referralPath': None, 'campaign': '(not set)'...   \n3  {'referralPath': None, 'campaign': '(not set)'...   \n4  {'referralPath': None, 'campaign': '(not set)'...   \n\n                                              device  \\\n0  {'browser': 'Chrome', 'browserVersion': 'not a...   \n1  {'browser': 'Chrome', 'browserVersion': 'not a...   \n2  {'browser': 'Chrome', 'browserVersion': 'not a...   \n3  {'browser': 'Chrome', 'browserVersion': 'not a...   \n4  {'browser': 'Chrome', 'browserVersion': 'not a...   \n\n                                          geoNetwork  \\\n0  {'continent': 'Americas', 'subContinent': 'Car...   \n1  {'continent': 'Americas', 'subContinent': 'Nor...   \n2  {'continent': 'Asia', 'subContinent': 'Souther...   \n3  {'continent': 'Europe', 'subContinent': 'Weste...   \n4  {'continent': 'Americas', 'subContinent': 'Nor...   \n\n                           customDimensions  \\\n0                                        []   \n1  [{'index': 4, 'value': 'North America'}]   \n2           [{'index': 4, 'value': 'APAC'}]   \n3           [{'index': 4, 'value': 'EMEA'}]   \n4  [{'index': 4, 'value': 'North America'}]   \n\n                                                hits        fullVisitorId  \\\n0  [{'hitNumber': 1, 'time': 0, 'hour': 3, 'minut...  2248281639583218707   \n1  [{'hitNumber': 1, 'time': 0, 'hour': 12, 'minu...  8647436381089107732   \n2  [{'hitNumber': 1, 'time': 0, 'hour': 3, 'minut...  2055839700856389632   \n3  [{'hitNumber': 1, 'time': 0, 'hour': 0, 'minut...  0750846065342433129   \n4  [{'hitNumber': 1, 'time': 0, 'hour': 22, 'minu...  0573427169410921198   \n\n  userId clientId channelGrouping  socialEngagementType  \n0   None     None  Organic Search  Not Socially Engaged  \n1   None     None  Organic Search  Not Socially Engaged  \n2   None     None  Organic Search  Not Socially Engaged  \n3   None     None          Direct  Not Socially Engaged  \n4   None     None  Organic Search  Not Socially Engaged  ",
      "text/html": "<div>\n<style scoped>\n    .dataframe tbody tr th:only-of-type {\n        vertical-align: middle;\n    }\n\n    .dataframe tbody tr th {\n        vertical-align: top;\n    }\n\n    .dataframe thead th {\n        text-align: right;\n    }\n</style>\n<table border=\"1\" class=\"dataframe\">\n  <thead>\n    <tr style=\"text-align: right;\">\n      <th></th>\n      <th>visitorId</th>\n      <th>visitNumber</th>\n      <th>visitId</th>\n      <th>visitStartTime</th>\n      <th>date</th>\n      <th>totals</th>\n      <th>trafficSource</th>\n      <th>device</th>\n      <th>geoNetwork</th>\n      <th>customDimensions</th>\n      <th>hits</th>\n      <th>fullVisitorId</th>\n      <th>userId</th>\n      <th>clientId</th>\n      <th>channelGrouping</th>\n      <th>socialEngagementType</th>\n    </tr>\n  </thead>\n  <tbody>\n    <tr>\n      <th>0</th>\n      <td>NaN</td>\n      <td>1</td>\n      <td>1501583974</td>\n      <td>1501583974</td>\n      <td>20170801</td>\n      <td>{'visits': 1, 'hits': 1, 'pageviews': 1, 'time...</td>\n      <td>{'referralPath': None, 'campaign': '(not set)'...</td>\n      <td>{'browser': 'Chrome', 'browserVersion': 'not a...</td>\n      <td>{'continent': 'Americas', 'subContinent': 'Car...</td>\n      <td>[]</td>\n      <td>[{'hitNumber': 1, 'time': 0, 'hour': 3, 'minut...</td>\n      <td>2248281639583218707</td>\n      <td>None</td>\n      <td>None</td>\n      <td>Organic Search</td>\n      <td>Not Socially Engaged</td>\n    </tr>\n    <tr>\n      <th>1</th>\n      <td>NaN</td>\n      <td>1</td>\n      <td>1501616585</td>\n      <td>1501616585</td>\n      <td>20170801</td>\n      <td>{'visits': 1, 'hits': 1, 'pageviews': 1, 'time...</td>\n      <td>{'referralPath': None, 'campaign': '(not set)'...</td>\n      <td>{'browser': 'Chrome', 'browserVersion': 'not a...</td>\n      <td>{'continent': 'Americas', 'subContinent': 'Nor...</td>\n      <td>[{'index': 4, 'value': 'North America'}]</td>\n      <td>[{'hitNumber': 1, 'time': 0, 'hour': 12, 'minu...</td>\n      <td>8647436381089107732</td>\n      <td>None</td>\n      <td>None</td>\n      <td>Organic Search</td>\n      <td>Not Socially Engaged</td>\n    </tr>\n    <tr>\n      <th>2</th>\n      <td>NaN</td>\n      <td>1</td>\n      <td>1501583344</td>\n      <td>1501583344</td>\n      <td>20170801</td>\n      <td>{'visits': 1, 'hits': 1, 'pageviews': 1, 'time...</td>\n      <td>{'referralPath': None, 'campaign': '(not set)'...</td>\n      <td>{'browser': 'Chrome', 'browserVersion': 'not a...</td>\n      <td>{'continent': 'Asia', 'subContinent': 'Souther...</td>\n      <td>[{'index': 4, 'value': 'APAC'}]</td>\n      <td>[{'hitNumber': 1, 'time': 0, 'hour': 3, 'minut...</td>\n      <td>2055839700856389632</td>\n      <td>None</td>\n      <td>None</td>\n      <td>Organic Search</td>\n      <td>Not Socially Engaged</td>\n    </tr>\n    <tr>\n      <th>3</th>\n      <td>NaN</td>\n      <td>1</td>\n      <td>1501573386</td>\n      <td>1501573386</td>\n      <td>20170801</td>\n      <td>{'visits': 1, 'hits': 1, 'pageviews': 1, 'time...</td>\n      <td>{'referralPath': None, 'campaign': '(not set)'...</td>\n      <td>{'browser': 'Chrome', 'browserVersion': 'not a...</td>\n      <td>{'continent': 'Europe', 'subContinent': 'Weste...</td>\n      <td>[{'index': 4, 'value': 'EMEA'}]</td>\n      <td>[{'hitNumber': 1, 'time': 0, 'hour': 0, 'minut...</td>\n      <td>0750846065342433129</td>\n      <td>None</td>\n      <td>None</td>\n      <td>Direct</td>\n      <td>Not Socially Engaged</td>\n    </tr>\n    <tr>\n      <th>4</th>\n      <td>NaN</td>\n      <td>8</td>\n      <td>1501651467</td>\n      <td>1501651467</td>\n      <td>20170801</td>\n      <td>{'visits': 1, 'hits': 1, 'pageviews': 1, 'time...</td>\n      <td>{'referralPath': None, 'campaign': '(not set)'...</td>\n      <td>{'browser': 'Chrome', 'browserVersion': 'not a...</td>\n      <td>{'continent': 'Americas', 'subContinent': 'Nor...</td>\n      <td>[{'index': 4, 'value': 'North America'}]</td>\n      <td>[{'hitNumber': 1, 'time': 0, 'hour': 22, 'minu...</td>\n      <td>0573427169410921198</td>\n      <td>None</td>\n      <td>None</td>\n      <td>Organic Search</td>\n      <td>Not Socially Engaged</td>\n    </tr>\n  </tbody>\n</table>\n</div>"
     },
     "execution_count": 13,
     "metadata": {},
     "output_type": "execute_result"
    }
   ],
   "source": [
    "df_original.head()"
   ],
   "metadata": {
    "collapsed": false,
    "pycharm": {
     "name": "#%%\n"
    }
   }
  },
  {
   "cell_type": "markdown",
   "source": [
    "# Create BQ dataset"
   ],
   "metadata": {
    "collapsed": false,
    "pycharm": {
     "name": "#%% md\n"
    }
   }
  },
  {
   "cell_type": "code",
   "execution_count": 8,
   "outputs": [
    {
     "name": "stdout",
     "output_type": "stream",
     "text": [
      "\r\n",
      "\r\n",
      "Updates are available for some Cloud SDK components.  To install them,\r\n",
      "please run:\r\n",
      "  $ gcloud components update\r\n",
      "\r\n",
      "\r\n",
      "Welcome to BigQuery! This script will walk you through the \r\n",
      "process of initializing your .bigqueryrc configuration file.\r\n",
      "\r\n",
      "First, we need to set up your credentials if they do not \r\n",
      "already exist.\r\n",
      "\r\n",
      "Credential creation complete. Now we will select a default project.\r\n",
      "\r\n",
      "List of projects:\r\n",
      "  #    projectId    friendlyName  \r\n",
      " --- ------------- -------------- \r\n",
      "  1   sbilife-o2o   SBILife O2O   \r\n",
      "Setting sbilife-o2o as the default.\r\n",
      "\r\n",
      "BigQuery configuration complete! Type \"bq\" to get started.\r\n",
      "\r\n",
      "BigQuery error in mk operation: Access Denied: Project my-bq-project-338012:\r\n",
      "User does not have bigquery.datasets.create permission in project my-bq-\r\n",
      "project-338012.\r\n"
     ]
    }
   ],
   "source": [
    "! bq mk my-bq-project-338012:kmeans"
   ],
   "metadata": {
    "collapsed": false,
    "pycharm": {
     "name": "#%%\n"
    }
   }
  },
  {
   "cell_type": "code",
   "execution_count": 17,
   "outputs": [],
   "source": [
    "ga360_only_view = 'GA360_View'\n",
    "shared_dataset_ref = client.dataset('kmeans')\n",
    "ga360_view_ref = shared_dataset_ref.table(ga360_only_view)\n",
    "ga360_view = bigquery.Table(ga360_view_ref)\n",
    "\n",
    "ga360_query = '''\n",
    "SELECT\n",
    "  fullVisitorID,\n",
    "  # This will be used to generate random data.\n",
    "  ABS(farm_fingerprint(fullVisitorID)) AS Hashed_fullVisitorID,\n",
    "  # You can aggregate this because an\n",
    "  # operating system is tied to a fullVisitorID.\n",
    "  MAX(device.operatingSystem) AS OS,\n",
    "  SUM (CASE\n",
    "       WHEN REGEXP_EXTRACT (v2ProductCategory,\n",
    "                           r'^(?:(?:.*?)Home/)(.*?)/')\n",
    "                           = 'Apparel' THEN 1 ELSE 0 END) AS Apparel,\n",
    "  SUM (CASE\n",
    "       WHEN REGEXP_EXTRACT (v2ProductCategory,\n",
    "                           r'^(?:(?:.*?)Home/)(.*?)/')\n",
    "                           = 'Office' THEN 1 ELSE 0 END) AS Office,\n",
    "  SUM (CASE\n",
    "       WHEN REGEXP_EXTRACT (v2ProductCategory,\n",
    "                           r'^(?:(?:.*?)Home/)(.*?)/')\n",
    "                           = 'Electronics' THEN 1 ELSE 0 END) AS Electronics,\n",
    "  SUM (CASE\n",
    "       WHEN REGEXP_EXTRACT (v2ProductCategory,\n",
    "                           r'^(?:(?:.*?)Home/)(.*?)/')\n",
    "                           = 'Limited Supply' THEN 1 ELSE 0 END) AS LimitedSupply,\n",
    "  SUM (CASE\n",
    "       WHEN REGEXP_EXTRACT (v2ProductCategory,\n",
    "                           r'^(?:(?:.*?)Home/)(.*?)/')\n",
    "                           = 'Accessories' THEN 1 ELSE 0 END) AS Accessories,\n",
    "  SUM (CASE\n",
    "       WHEN REGEXP_EXTRACT (v2ProductCategory,\n",
    "                           r'^(?:(?:.*?)Home/)(.*?)/')\n",
    "                           = 'Shop by Brand' THEN 1 ELSE 0 END) AS ShopByBrand,\n",
    "  SUM (CASE\n",
    "       WHEN REGEXP_EXTRACT (v2ProductCategory,\n",
    "                           r'^(?:(?:.*?)Home/)(.*?)/')\n",
    "                           = 'Bags' THEN 1 ELSE 0 END) AS Bags,\n",
    "  ROUND (SUM (productPrice/1000000),2) AS totalSpent_USD\n",
    "  FROM\n",
    "  `bigquery-public-data.google_analytics_sample.ga_sessions_*`,\n",
    "  UNNEST(hits) AS hits,\n",
    "  UNNEST(hits.product) AS hits_product\n",
    "WHERE\n",
    "  _TABLE_SUFFIX BETWEEN '20160801'\n",
    "  AND '20160831'\n",
    "  AND geoNetwork.country = 'United States'\n",
    "  AND type = 'EVENT'\n",
    "GROUP BY\n",
    "  1,\n",
    "  2\n",
    "'''\n",
    "\n",
    "ga360_view.view_query = ga360_query.format('my-bq-project-338012')\n",
    "ga360_view = client.create_table(ga360_view)\n"
   ],
   "metadata": {
    "collapsed": false,
    "pycharm": {
     "name": "#%%\n"
    }
   }
  },
  {
   "cell_type": "code",
   "execution_count": 18,
   "outputs": [
    {
     "data": {
      "text/plain": "         fullVisitorID  Hashed_fullVisitorID         OS  Apparel  Office  \\\n0   000005103959234087   4337061952752469967    Android        0       1   \n1  0003130024474361102   1959238978674290279  Chrome OS        0      22   \n2   000412118581900885   2335900684219890205    Windows        4       0   \n3  0004824403431530928   7205701007295976334  Macintosh       10       2   \n4  0006056564841557616   8664318594051821921  Macintosh        2       0   \n\n   Electronics  LimitedSupply  Accessories  ShopByBrand  Bags  totalSpent_USD  \n0            0              0            0            0     0           11.99  \n1            0              0            0            0     0           68.89  \n2            0              2            0            0     0          227.94  \n3            0              6            2            0     0         1044.82  \n4            0              0            0            0     0           33.98  ",
      "text/html": "<div>\n<style scoped>\n    .dataframe tbody tr th:only-of-type {\n        vertical-align: middle;\n    }\n\n    .dataframe tbody tr th {\n        vertical-align: top;\n    }\n\n    .dataframe thead th {\n        text-align: right;\n    }\n</style>\n<table border=\"1\" class=\"dataframe\">\n  <thead>\n    <tr style=\"text-align: right;\">\n      <th></th>\n      <th>fullVisitorID</th>\n      <th>Hashed_fullVisitorID</th>\n      <th>OS</th>\n      <th>Apparel</th>\n      <th>Office</th>\n      <th>Electronics</th>\n      <th>LimitedSupply</th>\n      <th>Accessories</th>\n      <th>ShopByBrand</th>\n      <th>Bags</th>\n      <th>totalSpent_USD</th>\n    </tr>\n  </thead>\n  <tbody>\n    <tr>\n      <th>0</th>\n      <td>000005103959234087</td>\n      <td>4337061952752469967</td>\n      <td>Android</td>\n      <td>0</td>\n      <td>1</td>\n      <td>0</td>\n      <td>0</td>\n      <td>0</td>\n      <td>0</td>\n      <td>0</td>\n      <td>11.99</td>\n    </tr>\n    <tr>\n      <th>1</th>\n      <td>0003130024474361102</td>\n      <td>1959238978674290279</td>\n      <td>Chrome OS</td>\n      <td>0</td>\n      <td>22</td>\n      <td>0</td>\n      <td>0</td>\n      <td>0</td>\n      <td>0</td>\n      <td>0</td>\n      <td>68.89</td>\n    </tr>\n    <tr>\n      <th>2</th>\n      <td>000412118581900885</td>\n      <td>2335900684219890205</td>\n      <td>Windows</td>\n      <td>4</td>\n      <td>0</td>\n      <td>0</td>\n      <td>2</td>\n      <td>0</td>\n      <td>0</td>\n      <td>0</td>\n      <td>227.94</td>\n    </tr>\n    <tr>\n      <th>3</th>\n      <td>0004824403431530928</td>\n      <td>7205701007295976334</td>\n      <td>Macintosh</td>\n      <td>10</td>\n      <td>2</td>\n      <td>0</td>\n      <td>6</td>\n      <td>2</td>\n      <td>0</td>\n      <td>0</td>\n      <td>1044.82</td>\n    </tr>\n    <tr>\n      <th>4</th>\n      <td>0006056564841557616</td>\n      <td>8664318594051821921</td>\n      <td>Macintosh</td>\n      <td>2</td>\n      <td>0</td>\n      <td>0</td>\n      <td>0</td>\n      <td>0</td>\n      <td>0</td>\n      <td>0</td>\n      <td>33.98</td>\n    </tr>\n  </tbody>\n</table>\n</div>"
     },
     "execution_count": 18,
     "metadata": {},
     "output_type": "execute_result"
    }
   ],
   "source": [
    "# Show a sample of GA360 data\n",
    "\n",
    "ga360_query_df = f'''\n",
    "SELECT * FROM {ga360_view.full_table_id.replace(\":\", \".\")}\n",
    "ORDER BY fullVisitorID\n",
    "LIMIT 5\n",
    "'''\n",
    "\n",
    "job_config = bigquery.QueryJobConfig()\n",
    "\n",
    "# Start the query\n",
    "query_job = client.query(ga360_query_df, job_config=job_config) #API Request\n",
    "df_ga360 = query_job.result()\n",
    "df_ga360 = df_ga360.to_dataframe()\n",
    "\n",
    "df_ga360"
   ],
   "metadata": {
    "collapsed": false,
    "pycharm": {
     "name": "#%%\n"
    }
   }
  },
  {
   "cell_type": "markdown",
   "source": [
    "# Generate Demographic Data\n",
    "\n",
    "In a production use case, you would want to use your own data from a customer relationship management (CRM) system. You would skip this step and proceed to the next, which is joining the CRM data with the aggregated customer transaction data."
   ],
   "metadata": {
    "collapsed": false,
    "pycharm": {
     "name": "#%% md\n"
    }
   }
  },
  {
   "cell_type": "code",
   "execution_count": 19,
   "outputs": [],
   "source": [
    "CRM_only_view = 'CRM_View'\n",
    "shared_dataset_ref = client.dataset('kmeans')\n",
    "CRM_view_ref = shared_dataset_ref.table(CRM_only_view)\n",
    "CRM_view = bigquery.Table(CRM_view_ref)\n",
    "\n",
    "# The query below works by hashing the fullVisitorID, which creates a\n",
    "# random distribution. It uses modulo to artificially split gender and\n",
    "# household income distribution.\n",
    "CRM_query = '''\n",
    "SELECT\n",
    "  fullVisitorID,\n",
    "IF\n",
    "  (MOD(Hashed_fullVisitorID,2) = 0,\n",
    "    \"M\",\n",
    "    \"F\") AS gender,\n",
    "  # Generate household income\n",
    "  CASE\n",
    "    WHEN MOD(Hashed_fullVisitorID,10) = 0 THEN 55000\n",
    "    WHEN MOD(Hashed_fullVisitorID,10) < 3 THEN 65000\n",
    "    WHEN MOD(Hashed_fullVisitorID,10) < 7 THEN 75000\n",
    "    WHEN MOD(Hashed_fullVisitorID,10) < 9 THEN 85000\n",
    "    WHEN MOD(Hashed_fullVisitorID,10) = 9 THEN 95000\n",
    "  ELSE\n",
    "  Hashed_fullVisitorID\n",
    "END\n",
    "  AS hhi\n",
    "FROM (\n",
    "  SELECT\n",
    "    fullVisitorID,\n",
    "    ABS(farm_fingerprint(fullVisitorID)) AS Hashed_fullVisitorID,\n",
    "  FROM\n",
    "    `bigquery-public-data.google_analytics_sample.ga_sessions_*`,\n",
    "    UNNEST(hits) AS hits,\n",
    "    UNNEST(hits.product) AS hits_product\n",
    "      WHERE\n",
    "    _TABLE_SUFFIX BETWEEN '20160801'\n",
    "    AND '20160831'\n",
    "    AND geoNetwork.country = 'United States'\n",
    "    AND type = 'EVENT'\n",
    "  GROUP BY\n",
    "    1,\n",
    "    2)\n",
    "'''\n",
    "\n",
    "CRM_view.view_query = CRM_query.format('my-bq-project-338012')\n",
    "CRM_view = client.create_table(CRM_view)"
   ],
   "metadata": {
    "collapsed": false,
    "pycharm": {
     "name": "#%%\n"
    }
   }
  },
  {
   "cell_type": "code",
   "execution_count": 20,
   "outputs": [
    {
     "data": {
      "text/plain": "         fullVisitorID gender    hhi\n0   000005103959234087      F  85000\n1  0003130024474361102      F  95000\n2   000412118581900885      F  75000\n3  0004824403431530928      M  75000\n4  0006056564841557616      F  65000",
      "text/html": "<div>\n<style scoped>\n    .dataframe tbody tr th:only-of-type {\n        vertical-align: middle;\n    }\n\n    .dataframe tbody tr th {\n        vertical-align: top;\n    }\n\n    .dataframe thead th {\n        text-align: right;\n    }\n</style>\n<table border=\"1\" class=\"dataframe\">\n  <thead>\n    <tr style=\"text-align: right;\">\n      <th></th>\n      <th>fullVisitorID</th>\n      <th>gender</th>\n      <th>hhi</th>\n    </tr>\n  </thead>\n  <tbody>\n    <tr>\n      <th>0</th>\n      <td>000005103959234087</td>\n      <td>F</td>\n      <td>85000</td>\n    </tr>\n    <tr>\n      <th>1</th>\n      <td>0003130024474361102</td>\n      <td>F</td>\n      <td>95000</td>\n    </tr>\n    <tr>\n      <th>2</th>\n      <td>000412118581900885</td>\n      <td>F</td>\n      <td>75000</td>\n    </tr>\n    <tr>\n      <th>3</th>\n      <td>0004824403431530928</td>\n      <td>M</td>\n      <td>75000</td>\n    </tr>\n    <tr>\n      <th>4</th>\n      <td>0006056564841557616</td>\n      <td>F</td>\n      <td>65000</td>\n    </tr>\n  </tbody>\n</table>\n</div>"
     },
     "execution_count": 20,
     "metadata": {},
     "output_type": "execute_result"
    }
   ],
   "source": [
    "# See an output of the synthetic CRM data\n",
    "\n",
    "CRM_query_df = f'''\n",
    "SELECT * FROM {CRM_view.full_table_id.replace(\":\", \".\")}\n",
    "ORDER BY fullVisitorID\n",
    "LIMIT 5\n",
    "'''\n",
    "\n",
    "job_config = bigquery.QueryJobConfig()\n",
    "\n",
    "# Start the query\n",
    "query_job = client.query(CRM_query_df, job_config=job_config)\n",
    "df_CRM = query_job.result()\n",
    "df_CRM = df_CRM.to_dataframe()\n",
    "\n",
    "df_CRM"
   ],
   "metadata": {
    "collapsed": false,
    "pycharm": {
     "name": "#%%\n"
    }
   }
  },
  {
   "cell_type": "markdown",
   "source": [
    "# Create the Training dataset"
   ],
   "metadata": {
    "collapsed": false,
    "pycharm": {
     "name": "#%% md\n"
    }
   }
  },
  {
   "cell_type": "code",
   "execution_count": 21,
   "outputs": [
    {
     "name": "stdout",
     "output_type": "stream",
     "text": [
      "Successfully created view at my-bq-project-338012:kmeans.Final_View\n"
     ]
    }
   ],
   "source": [
    "# Build a final view, which joins GA360 data with CRM data\n",
    "\n",
    "final_data_view = 'Final_View'\n",
    "shared_dataset_ref = client.dataset('kmeans')\n",
    "final_view_ref = shared_dataset_ref.table(final_data_view)\n",
    "final_view = bigquery.Table(final_view_ref)\n",
    "\n",
    "final_data_query = f'''\n",
    "SELECT\n",
    "    g.*,\n",
    "    c.* EXCEPT(fullVisitorId)\n",
    "FROM {ga360_view.full_table_id.replace(\":\", \".\")} g\n",
    "JOIN {CRM_view.full_table_id.replace(\":\", \".\")} c\n",
    "ON g.fullVisitorId = c.fullVisitorId\n",
    "'''\n",
    "\n",
    "final_view.view_query = final_data_query.format('my-bq-project-338012')\n",
    "final_view = client.create_table(final_view)\n",
    "\n",
    "print(f\"Successfully created view at {final_view.full_table_id}\")"
   ],
   "metadata": {
    "collapsed": false,
    "pycharm": {
     "name": "#%%\n"
    }
   }
  },
  {
   "cell_type": "code",
   "execution_count": 22,
   "outputs": [
    {
     "data": {
      "text/plain": "         fullVisitorID  Hashed_fullVisitorID         OS  Apparel  Office  \\\n0   000005103959234087   4337061952752469967    Android        0       1   \n1  0003130024474361102   1959238978674290279  Chrome OS        0      22   \n2   000412118581900885   2335900684219890205    Windows        4       0   \n3  0004824403431530928   7205701007295976334  Macintosh       10       2   \n4  0006056564841557616   8664318594051821921  Macintosh        2       0   \n\n   Electronics  LimitedSupply  Accessories  ShopByBrand  Bags  totalSpent_USD  \\\n0            0              0            0            0     0           11.99   \n1            0              0            0            0     0           68.89   \n2            0              2            0            0     0          227.94   \n3            0              6            2            0     0         1044.82   \n4            0              0            0            0     0           33.98   \n\n  gender    hhi  \n0      F  85000  \n1      F  95000  \n2      F  75000  \n3      M  75000  \n4      F  65000  ",
      "text/html": "<div>\n<style scoped>\n    .dataframe tbody tr th:only-of-type {\n        vertical-align: middle;\n    }\n\n    .dataframe tbody tr th {\n        vertical-align: top;\n    }\n\n    .dataframe thead th {\n        text-align: right;\n    }\n</style>\n<table border=\"1\" class=\"dataframe\">\n  <thead>\n    <tr style=\"text-align: right;\">\n      <th></th>\n      <th>fullVisitorID</th>\n      <th>Hashed_fullVisitorID</th>\n      <th>OS</th>\n      <th>Apparel</th>\n      <th>Office</th>\n      <th>Electronics</th>\n      <th>LimitedSupply</th>\n      <th>Accessories</th>\n      <th>ShopByBrand</th>\n      <th>Bags</th>\n      <th>totalSpent_USD</th>\n      <th>gender</th>\n      <th>hhi</th>\n    </tr>\n  </thead>\n  <tbody>\n    <tr>\n      <th>0</th>\n      <td>000005103959234087</td>\n      <td>4337061952752469967</td>\n      <td>Android</td>\n      <td>0</td>\n      <td>1</td>\n      <td>0</td>\n      <td>0</td>\n      <td>0</td>\n      <td>0</td>\n      <td>0</td>\n      <td>11.99</td>\n      <td>F</td>\n      <td>85000</td>\n    </tr>\n    <tr>\n      <th>1</th>\n      <td>0003130024474361102</td>\n      <td>1959238978674290279</td>\n      <td>Chrome OS</td>\n      <td>0</td>\n      <td>22</td>\n      <td>0</td>\n      <td>0</td>\n      <td>0</td>\n      <td>0</td>\n      <td>0</td>\n      <td>68.89</td>\n      <td>F</td>\n      <td>95000</td>\n    </tr>\n    <tr>\n      <th>2</th>\n      <td>000412118581900885</td>\n      <td>2335900684219890205</td>\n      <td>Windows</td>\n      <td>4</td>\n      <td>0</td>\n      <td>0</td>\n      <td>2</td>\n      <td>0</td>\n      <td>0</td>\n      <td>0</td>\n      <td>227.94</td>\n      <td>F</td>\n      <td>75000</td>\n    </tr>\n    <tr>\n      <th>3</th>\n      <td>0004824403431530928</td>\n      <td>7205701007295976334</td>\n      <td>Macintosh</td>\n      <td>10</td>\n      <td>2</td>\n      <td>0</td>\n      <td>6</td>\n      <td>2</td>\n      <td>0</td>\n      <td>0</td>\n      <td>1044.82</td>\n      <td>M</td>\n      <td>75000</td>\n    </tr>\n    <tr>\n      <th>4</th>\n      <td>0006056564841557616</td>\n      <td>8664318594051821921</td>\n      <td>Macintosh</td>\n      <td>2</td>\n      <td>0</td>\n      <td>0</td>\n      <td>0</td>\n      <td>0</td>\n      <td>0</td>\n      <td>0</td>\n      <td>33.98</td>\n      <td>F</td>\n      <td>65000</td>\n    </tr>\n  </tbody>\n</table>\n</div>"
     },
     "execution_count": 22,
     "metadata": {},
     "output_type": "execute_result"
    }
   ],
   "source": [
    "# Show final data used before modeling\n",
    "\n",
    "sql_demo = f'''\n",
    "SELECT * FROM {final_view.full_table_id.replace(\":\", \".\")}\n",
    "ORDER BY fullVisitorID\n",
    "LIMIT 5\n",
    "'''\n",
    "\n",
    "job_config = bigquery.QueryJobConfig()\n",
    "\n",
    "# Start the query\n",
    "query_job = client.query(sql_demo, job_config=job_config)\n",
    "df_demo = query_job.result()\n",
    "df_demo = df_demo.to_dataframe()\n",
    "\n",
    "df_demo"
   ],
   "metadata": {
    "collapsed": false,
    "pycharm": {
     "name": "#%%\n"
    }
   }
  },
  {
   "cell_type": "markdown",
   "source": [
    "# Create, Train & Deploy the Model"
   ],
   "metadata": {
    "collapsed": false,
    "pycharm": {
     "name": "#%% md\n"
    }
   }
  },
  {
   "cell_type": "code",
   "execution_count": 23,
   "outputs": [],
   "source": [
    "PROJECT_ID = \"my-bq-project-338012\"\n",
    "\n",
    "def makeModel (n_Clusters, Model_Name):\n",
    "    sql =f'''\n",
    "    CREATE OR REPLACE MODEL `{PROJECT_ID}.kmeans.{Model_Name}`\n",
    "    OPTIONS(model_type='kmeans',\n",
    "    kmeans_init_method = 'KMEANS++',\n",
    "    num_clusters={n_Clusters}) AS\n",
    "    SELECT * except(fullVisitorID, Hashed_fullVisitorID) FROM `{final_view.full_table_id.replace(\":\", \".\")}`\n",
    "    '''\n",
    "    job_config = bigquery.QueryJobConfig()\n",
    "    client.query(sql, job_config=job_config)"
   ],
   "metadata": {
    "collapsed": false,
    "pycharm": {
     "name": "#%%\n"
    }
   }
  },
  {
   "cell_type": "code",
   "execution_count": 24,
   "outputs": [],
   "source": [
    "model_test_name = \"test\"\n",
    "makeModel(3, model_test_name)"
   ],
   "metadata": {
    "collapsed": false,
    "pycharm": {
     "name": "#%%\n"
    }
   }
  },
  {
   "cell_type": "code",
   "execution_count": 27,
   "outputs": [
    {
     "name": "stdout",
     "output_type": "stream",
     "text": [
      "Model(reference=ModelReference(project_id='my-bq-project-338012', dataset_id='kmeans', model_id='test'))\n"
     ]
    }
   ],
   "source": [
    "for model in client.list_models('kmeans'):\n",
    "    print(model)"
   ],
   "metadata": {
    "collapsed": false,
    "pycharm": {
     "name": "#%%\n"
    }
   }
  },
  {
   "cell_type": "code",
   "execution_count": 28,
   "outputs": [
    {
     "name": "stdout",
     "output_type": "stream",
     "text": [
      "Deleted model 'kmeans.test'\n"
     ]
    }
   ],
   "source": [
    "# Delete the test model\n",
    "\n",
    "model_id = \"kmeans.\"+model_test_name\n",
    "client.delete_model(model_id)\n",
    "print(f\"Deleted model '{model_id}'\")"
   ],
   "metadata": {
    "collapsed": false,
    "pycharm": {
     "name": "#%%\n"
    }
   }
  },
  {
   "cell_type": "markdown",
   "source": [
    "# Improve the Model\n",
    "\n",
    "Determining the right number of clusters — this is the \"k\" in \"k-means\" — depends on your use case. It is sometimes easy to determine how many clusters you need. For example, if you are processing images of handwritten single digits, you need 10 clusters, one each for digits 0-9. For use cases that are less obvious, you can experiment with multiple versions of the model that use different numbers of clusters. Comparing different versions of the model lets you see which performs best in terms of grouping your data while minimizing error within each cluster.\n",
    "\n",
    "You can determine which model version provides the best groupings by using the elbow method, which is a way of charting loss against the number of clusters in the model, in combination with the model's Davies–Bouldin score. This score indicates how different a cluster's data points are from one another. It is defined as the ratio between the scatter of the data points within a given cluster and the scatter of the clusters themselves. A lower value inidcates better clustering.\n",
    "\n",
    "# Create multiple models for comparison"
   ],
   "metadata": {
    "collapsed": false,
    "pycharm": {
     "name": "#%% md\n"
    }
   }
  },
  {
   "cell_type": "code",
   "execution_count": 29,
   "outputs": [],
   "source": [
    "low_k = 3\n",
    "high_k = 15\n",
    "model_prefix_name = 'kmeans_clusters_'\n",
    "\n",
    "lst = list(range (low_k, high_k+1)) #build list to iterate through k values\n",
    "\n",
    "for k in lst:\n",
    "    model_name = model_prefix_name + str(k)\n",
    "    makeModel(k, model_name)"
   ],
   "metadata": {
    "collapsed": false,
    "pycharm": {
     "name": "#%%\n"
    }
   }
  },
  {
   "cell_type": "code",
   "execution_count": 36,
   "outputs": [
    {
     "name": "stdout",
     "output_type": "stream",
     "text": [
      "Listing current models:\n",
      "kmeans.kmeans_clusters_10\n",
      "kmeans.kmeans_clusters_11\n",
      "kmeans.kmeans_clusters_12\n",
      "kmeans.kmeans_clusters_13\n",
      "kmeans.kmeans_clusters_14\n",
      "kmeans.kmeans_clusters_15\n",
      "kmeans.kmeans_clusters_3\n",
      "kmeans.kmeans_clusters_4\n",
      "kmeans.kmeans_clusters_5\n",
      "kmeans.kmeans_clusters_6\n",
      "kmeans.kmeans_clusters_7\n",
      "kmeans.kmeans_clusters_8\n",
      "kmeans.kmeans_clusters_9\n"
     ]
    }
   ],
   "source": [
    "models = client.list_models('kmeans')\n",
    "print(\"Listing current models:\")\n",
    "for model in models:\n",
    "    full_model_id = f\"{model.dataset_id}.{model.model_id}\"\n",
    "    print(full_model_id)"
   ],
   "metadata": {
    "collapsed": false,
    "pycharm": {
     "name": "#%%\n"
    }
   }
  },
  {
   "cell_type": "markdown",
   "source": [
    "# Compare Model Performance\n",
    "\n",
    "Use the folowing procedure to compare the performance of the different models by reviewing the mean squared distance, which identifies the loss for the model, and the Davies–Bouldin score for each model.\n",
    "\n"
   ],
   "metadata": {
    "collapsed": false,
    "pycharm": {
     "name": "#%% md\n"
    }
   }
  },
  {
   "cell_type": "code",
   "execution_count": 37,
   "outputs": [],
   "source": [
    "# This creates a dataframe with each model name, the Davies Bouldin Index, and Loss.\n",
    "\n",
    "df = pd.DataFrame(columns=['davies_bouldin_index', 'mean_squared_distance'])\n",
    "models = client.list_models('kmeans')\n",
    "for model in models:\n",
    "    full_model_id = f\"{model.dataset_id}.{model.model_id}\"\n",
    "    sql =f'''\n",
    "        SELECT\n",
    "            davies_bouldin_index,\n",
    "            mean_squared_distance\n",
    "        FROM ML.EVALUATE(MODEL `{full_model_id}`)\n",
    "    '''\n",
    "\n",
    "    job_config = bigquery.QueryJobConfig()\n",
    "\n",
    "    # Start the query, passing in the extra configuration.\n",
    "    query_job = client.query(sql, job_config=job_config)\n",
    "    df_temp = query_job.to_dataframe()  # Wait for the job to complete.\n",
    "    df_temp['model_name'] = model.model_id\n",
    "    df =  pd.concat([df, df_temp], axis=0)"
   ],
   "metadata": {
    "collapsed": false,
    "pycharm": {
     "name": "#%%\n"
    }
   }
  },
  {
   "cell_type": "code",
   "execution_count": 38,
   "outputs": [
    {
     "data": {
      "text/plain": "   davies_bouldin_index  mean_squared_distance          model_name  n_clusters\n0              1.532606               8.499200   kmeans_clusters_3           3\n0              1.918523               8.524787   kmeans_clusters_4           4\n0              1.330396               7.353304   kmeans_clusters_5           5\n0              1.253412               6.788111   kmeans_clusters_6           6\n0              1.610131               6.166067   kmeans_clusters_7           7\n0              1.589554               5.895958   kmeans_clusters_8           8\n0              1.141568               5.888914   kmeans_clusters_9           9\n0              1.084747               6.150114  kmeans_clusters_10          10\n0              1.250368               4.985817  kmeans_clusters_11          11\n0              1.395609               4.796084  kmeans_clusters_12          12\n0              1.298499               4.947384  kmeans_clusters_13          13\n0              1.391423               4.610178  kmeans_clusters_14          14\n0              1.224737               5.028840  kmeans_clusters_15          15",
      "text/html": "<div>\n<style scoped>\n    .dataframe tbody tr th:only-of-type {\n        vertical-align: middle;\n    }\n\n    .dataframe tbody tr th {\n        vertical-align: top;\n    }\n\n    .dataframe thead th {\n        text-align: right;\n    }\n</style>\n<table border=\"1\" class=\"dataframe\">\n  <thead>\n    <tr style=\"text-align: right;\">\n      <th></th>\n      <th>davies_bouldin_index</th>\n      <th>mean_squared_distance</th>\n      <th>model_name</th>\n      <th>n_clusters</th>\n    </tr>\n  </thead>\n  <tbody>\n    <tr>\n      <th>0</th>\n      <td>1.532606</td>\n      <td>8.499200</td>\n      <td>kmeans_clusters_3</td>\n      <td>3</td>\n    </tr>\n    <tr>\n      <th>0</th>\n      <td>1.918523</td>\n      <td>8.524787</td>\n      <td>kmeans_clusters_4</td>\n      <td>4</td>\n    </tr>\n    <tr>\n      <th>0</th>\n      <td>1.330396</td>\n      <td>7.353304</td>\n      <td>kmeans_clusters_5</td>\n      <td>5</td>\n    </tr>\n    <tr>\n      <th>0</th>\n      <td>1.253412</td>\n      <td>6.788111</td>\n      <td>kmeans_clusters_6</td>\n      <td>6</td>\n    </tr>\n    <tr>\n      <th>0</th>\n      <td>1.610131</td>\n      <td>6.166067</td>\n      <td>kmeans_clusters_7</td>\n      <td>7</td>\n    </tr>\n    <tr>\n      <th>0</th>\n      <td>1.589554</td>\n      <td>5.895958</td>\n      <td>kmeans_clusters_8</td>\n      <td>8</td>\n    </tr>\n    <tr>\n      <th>0</th>\n      <td>1.141568</td>\n      <td>5.888914</td>\n      <td>kmeans_clusters_9</td>\n      <td>9</td>\n    </tr>\n    <tr>\n      <th>0</th>\n      <td>1.084747</td>\n      <td>6.150114</td>\n      <td>kmeans_clusters_10</td>\n      <td>10</td>\n    </tr>\n    <tr>\n      <th>0</th>\n      <td>1.250368</td>\n      <td>4.985817</td>\n      <td>kmeans_clusters_11</td>\n      <td>11</td>\n    </tr>\n    <tr>\n      <th>0</th>\n      <td>1.395609</td>\n      <td>4.796084</td>\n      <td>kmeans_clusters_12</td>\n      <td>12</td>\n    </tr>\n    <tr>\n      <th>0</th>\n      <td>1.298499</td>\n      <td>4.947384</td>\n      <td>kmeans_clusters_13</td>\n      <td>13</td>\n    </tr>\n    <tr>\n      <th>0</th>\n      <td>1.391423</td>\n      <td>4.610178</td>\n      <td>kmeans_clusters_14</td>\n      <td>14</td>\n    </tr>\n    <tr>\n      <th>0</th>\n      <td>1.224737</td>\n      <td>5.028840</td>\n      <td>kmeans_clusters_15</td>\n      <td>15</td>\n    </tr>\n  </tbody>\n</table>\n</div>"
     },
     "execution_count": 38,
     "metadata": {},
     "output_type": "execute_result"
    }
   ],
   "source": [
    "df['n_clusters'] = df['model_name'].str.split('_').map(lambda x: x[2])\n",
    "df['n_clusters'] = df['n_clusters'].apply(pd.to_numeric)\n",
    "df = df.sort_values(by='n_clusters', ascending=True)\n",
    "df"
   ],
   "metadata": {
    "collapsed": false,
    "pycharm": {
     "name": "#%%\n"
    }
   }
  },
  {
   "cell_type": "code",
   "execution_count": 39,
   "outputs": [
    {
     "data": {
      "text/plain": "<AxesSubplot:xlabel='n_clusters'>"
     },
     "execution_count": 39,
     "metadata": {},
     "output_type": "execute_result"
    },
    {
     "data": {
      "text/plain": "<Figure size 432x288 with 1 Axes>",
      "image/png": "[encoded data removed]"
     },
     "metadata": {
      "needs_background": "light"
     },
     "output_type": "display_data"
    }
   ],
   "source": [
    "df.plot.line(x='n_clusters', y=['davies_bouldin_index', 'mean_squared_distance'])"
   ],
   "metadata": {
    "collapsed": false,
    "pycharm": {
     "name": "#%%\n"
    }
   }
  },
  {
   "cell_type": "markdown",
   "source": [
    "There is no perfect approach to determining the optimal number of clusters for a use case. We recommend taking the following approach when making this decision:\n",
    "\n",
    "- Apply the elbow method, and see if it shows you a clear place where loss evens out.\n",
    "- Consider the Davies-Bouldin scores for the models.\n",
    "- Consider business rules or requirements that might affect how many clusters you want to work with.\n",
    "- Choose the model that meets your business requirements and has the best combination of low loss and low Davies-Bouldin score."
   ],
   "metadata": {
    "collapsed": false,
    "pycharm": {
     "name": "#%% md\n"
    }
   }
  },
  {
   "cell_type": "markdown",
   "source": [
    "# Analyze the data clusters in the selected Model\n",
    "\n",
    "We select Model 4 for simplicity sake."
   ],
   "metadata": {
    "collapsed": false,
    "pycharm": {
     "name": "#%% md\n"
    }
   }
  },
  {
   "cell_type": "code",
   "execution_count": 40,
   "outputs": [
    {
     "data": {
      "text/plain": "   centroid_id feature  \\\n0            1  gender   \n1            2  gender   \n2            3  gender   \n3            4  gender   \n\n                                                                                    categorical_value  \n0                                                                   [{'category': 'F', 'value': 1.0}]  \n1  [{'category': 'F', 'value': 0.9522144522144522}, {'category': 'M', 'value': 0.047785547785547784}]  \n2   [{'category': 'F', 'value': 0.46153846153846156}, {'category': 'M', 'value': 0.5384615384615384}]  \n3    [{'category': 'F', 'value': 0.3728234336859235}, {'category': 'M', 'value': 0.6271765663140765}]  ",
      "text/html": "<div>\n<style scoped>\n    .dataframe tbody tr th:only-of-type {\n        vertical-align: middle;\n    }\n\n    .dataframe tbody tr th {\n        vertical-align: top;\n    }\n\n    .dataframe thead th {\n        text-align: right;\n    }\n</style>\n<table border=\"1\" class=\"dataframe\">\n  <thead>\n    <tr style=\"text-align: right;\">\n      <th></th>\n      <th>centroid_id</th>\n      <th>feature</th>\n      <th>categorical_value</th>\n    </tr>\n  </thead>\n  <tbody>\n    <tr>\n      <th>0</th>\n      <td>1</td>\n      <td>gender</td>\n      <td>[{'category': 'F', 'value': 1.0}]</td>\n    </tr>\n    <tr>\n      <th>1</th>\n      <td>2</td>\n      <td>gender</td>\n      <td>[{'category': 'F', 'value': 0.9522144522144522}, {'category': 'M', 'value': 0.047785547785547784}]</td>\n    </tr>\n    <tr>\n      <th>2</th>\n      <td>3</td>\n      <td>gender</td>\n      <td>[{'category': 'F', 'value': 0.46153846153846156}, {'category': 'M', 'value': 0.5384615384615384}]</td>\n    </tr>\n    <tr>\n      <th>3</th>\n      <td>4</td>\n      <td>gender</td>\n      <td>[{'category': 'F', 'value': 0.3728234336859235}, {'category': 'M', 'value': 0.6271765663140765}]</td>\n    </tr>\n  </tbody>\n</table>\n</div>"
     },
     "execution_count": 40,
     "metadata": {},
     "output_type": "execute_result"
    }
   ],
   "source": [
    "model_to_use = 'kmeans_clusters_4' # Edit this to use a different model\n",
    "final_model = 'kmeans.'+model_to_use\n",
    "\n",
    "pd.set_option('max_colwidth', 400)\n",
    "\n",
    "sql_get_attributes = f'''\n",
    "SELECT\n",
    "  centroid_id,\n",
    "  feature,\n",
    "  categorical_value\n",
    "FROM\n",
    "  ML.CENTROIDS(MODEL {final_model})\n",
    "WHERE\n",
    "  feature IN ('gender')\n",
    "'''\n",
    "\n",
    "job_config = bigquery.QueryJobConfig()\n",
    "\n",
    "# Start the query\n",
    "query_job = client.query(sql_get_attributes, job_config=job_config)\n",
    "df_attributes = query_job.result()\n",
    "df_attributes = df_attributes.to_dataframe()\n",
    "df_attributes"
   ],
   "metadata": {
    "collapsed": false,
    "pycharm": {
     "name": "#%%\n"
    }
   }
  },
  {
   "cell_type": "markdown",
   "source": [
    "Calculate the summary statistics on the cluster data"
   ],
   "metadata": {
    "collapsed": false,
    "pycharm": {
     "name": "#%% md\n"
    }
   }
  },
  {
   "cell_type": "code",
   "execution_count": 41,
   "outputs": [
    {
     "data": {
      "text/plain": "   centroid_id  Total_Users  Apparel  Office  Electronics  LimitedSupply  \\\n0            1            1      0.0   340.0          0.0            0.0   \n1            2         1816      3.2     1.0          0.9            0.5   \n2            3           17      4.3     2.1          1.3            0.3   \n3            4         6041      2.7     0.9          0.7            0.5   \n\n   Accessories  Bags  ShopByBrand  totalSpent_USD  HouseholdIncome  \n0          0.0   0.0          0.0          2022.9          75000.0  \n1          0.5   0.4          0.7           245.8          89178.3  \n2          0.7  -0.0         31.6          1100.5          79615.4  \n3          0.5   0.3          0.2           207.1          70957.7  ",
      "text/html": "<div>\n<style scoped>\n    .dataframe tbody tr th:only-of-type {\n        vertical-align: middle;\n    }\n\n    .dataframe tbody tr th {\n        vertical-align: top;\n    }\n\n    .dataframe thead th {\n        text-align: right;\n    }\n</style>\n<table border=\"1\" class=\"dataframe\">\n  <thead>\n    <tr style=\"text-align: right;\">\n      <th></th>\n      <th>centroid_id</th>\n      <th>Total_Users</th>\n      <th>Apparel</th>\n      <th>Office</th>\n      <th>Electronics</th>\n      <th>LimitedSupply</th>\n      <th>Accessories</th>\n      <th>Bags</th>\n      <th>ShopByBrand</th>\n      <th>totalSpent_USD</th>\n      <th>HouseholdIncome</th>\n    </tr>\n  </thead>\n  <tbody>\n    <tr>\n      <th>0</th>\n      <td>1</td>\n      <td>1</td>\n      <td>0.0</td>\n      <td>340.0</td>\n      <td>0.0</td>\n      <td>0.0</td>\n      <td>0.0</td>\n      <td>0.0</td>\n      <td>0.0</td>\n      <td>2022.9</td>\n      <td>75000.0</td>\n    </tr>\n    <tr>\n      <th>1</th>\n      <td>2</td>\n      <td>1816</td>\n      <td>3.2</td>\n      <td>1.0</td>\n      <td>0.9</td>\n      <td>0.5</td>\n      <td>0.5</td>\n      <td>0.4</td>\n      <td>0.7</td>\n      <td>245.8</td>\n      <td>89178.3</td>\n    </tr>\n    <tr>\n      <th>2</th>\n      <td>3</td>\n      <td>17</td>\n      <td>4.3</td>\n      <td>2.1</td>\n      <td>1.3</td>\n      <td>0.3</td>\n      <td>0.7</td>\n      <td>-0.0</td>\n      <td>31.6</td>\n      <td>1100.5</td>\n      <td>79615.4</td>\n    </tr>\n    <tr>\n      <th>3</th>\n      <td>4</td>\n      <td>6041</td>\n      <td>2.7</td>\n      <td>0.9</td>\n      <td>0.7</td>\n      <td>0.5</td>\n      <td>0.5</td>\n      <td>0.3</td>\n      <td>0.2</td>\n      <td>207.1</td>\n      <td>70957.7</td>\n    </tr>\n  </tbody>\n</table>\n</div>"
     },
     "execution_count": 41,
     "metadata": {},
     "output_type": "execute_result"
    }
   ],
   "source": [
    "sql_get_numerical_attributes = f'''\n",
    "WITH T AS (\n",
    "SELECT\n",
    "  centroid_id,\n",
    "  ARRAY_AGG(STRUCT(feature AS name,\n",
    "                   ROUND(numerical_value,1) AS value)\n",
    "                   ORDER BY centroid_id)\n",
    "                   AS cluster\n",
    "FROM ML.CENTROIDS(MODEL {final_model})\n",
    "GROUP BY centroid_id\n",
    "),\n",
    "\n",
    "Users AS(\n",
    "SELECT\n",
    "  centroid_id,\n",
    "  COUNT(*) AS Total_Users\n",
    "FROM(\n",
    "SELECT\n",
    "  * EXCEPT(nearest_centroids_distance)\n",
    "FROM\n",
    "  ML.PREDICT(MODEL {final_model},\n",
    "    (\n",
    "    SELECT\n",
    "      *\n",
    "    FROM\n",
    "      {final_view.full_table_id.replace(\":\", \".\")}\n",
    "      )))\n",
    "GROUP BY centroid_id\n",
    ")\n",
    "\n",
    "SELECT\n",
    "  centroid_id,\n",
    "  Total_Users,\n",
    "  (SELECT value from unnest(cluster) WHERE name = 'Apparel') AS Apparel,\n",
    "  (SELECT value from unnest(cluster) WHERE name = 'Office') AS Office,\n",
    "  (SELECT value from unnest(cluster) WHERE name = 'Electronics') AS Electronics,\n",
    "  (SELECT value from unnest(cluster) WHERE name = 'LimitedSupply') AS LimitedSupply,\n",
    "  (SELECT value from unnest(cluster) WHERE name = 'Accessories') AS Accessories,\n",
    "  (SELECT value from unnest(cluster) WHERE name = 'Bags') AS Bags,\n",
    "  (SELECT value from unnest(cluster) WHERE name = 'ShopByBrand') AS ShopByBrand,\n",
    "  (SELECT value from unnest(cluster) WHERE name = 'totalSpent_USD') AS totalSpent_USD,\n",
    "  (SELECT value from unnest(cluster) WHERE name = 'hhi') AS HouseholdIncome\n",
    "\n",
    "FROM T LEFT JOIN Users USING(centroid_id)\n",
    "ORDER BY centroid_id ASC\n",
    "'''\n",
    "\n",
    "job_config = bigquery.QueryJobConfig()\n",
    "\n",
    "# Start the query\n",
    "query_job = client.query(sql_get_numerical_attributes, job_config=job_config)\n",
    "df_numerical_attributes = query_job.result()\n",
    "df_numerical_attributes = df_numerical_attributes.to_dataframe()\n",
    "df_numerical_attributes.head()"
   ],
   "metadata": {
    "collapsed": false,
    "pycharm": {
     "name": "#%%\n"
    }
   }
  },
  {
   "cell_type": "markdown",
   "source": [
    "# Get predictions"
   ],
   "metadata": {
    "collapsed": false,
    "pycharm": {
     "name": "#%% md\n"
    }
   }
  },
  {
   "cell_type": "code",
   "execution_count": 42,
   "outputs": [
    {
     "data": {
      "text/plain": "   CENTROID_ID        fullVisitorID  Hashed_fullVisitorID         OS  Apparel  \\\n0            4  8801752590982652761    196041485918610155    Windows        0   \n1            4  8355103612289837568   4517905322618972303  Chrome OS        0   \n2            2  1441301506965036346   8200515500173555177  Macintosh        0   \n3            2  3339969886638037862   7119993913153820257  Macintosh       19   \n4            4  9389436583324779454   8827930720867903173        iOS        1   \n5            4  2166569655396368369   2074409771222667143      Linux        0   \n6            4  7770850576523573713   1555529942794677513        iOS        0   \n7            4   716411375745885143   4753108492443265215        iOS        0   \n8            4  8736975165909803047   6058487005608912672  Chrome OS        0   \n9            4  2917270086618932592   4544744736098108722  Macintosh        1   \n\n   Office  Electronics  LimitedSupply  Accessories  ShopByBrand  Bags  \\\n0       0            0              0            0            0     0   \n1       0            0              0            1            0     0   \n2       0            2              2            0            0     0   \n3       3            4              0            0            0     1   \n4       0            0              0            0            0     0   \n5       1            0              0            0            0     0   \n6       0            0              0            0            0     0   \n7       0            0              0            0            0     0   \n8       0            1              0            0            0     0   \n9       0            0              0            0            0     0   \n\n   totalSpent_USD gender    hhi  \n0            1.99      F  75000  \n1            1.99      F  75000  \n2          279.96      F  85000  \n3          937.25      F  85000  \n4           16.99      F  75000  \n5           10.99      F  75000  \n6           30.99      F  75000  \n7          425.00      F  75000  \n8           59.99      M  65000  \n9           64.99      M  65000  ",
      "text/html": "<div>\n<style scoped>\n    .dataframe tbody tr th:only-of-type {\n        vertical-align: middle;\n    }\n\n    .dataframe tbody tr th {\n        vertical-align: top;\n    }\n\n    .dataframe thead th {\n        text-align: right;\n    }\n</style>\n<table border=\"1\" class=\"dataframe\">\n  <thead>\n    <tr style=\"text-align: right;\">\n      <th></th>\n      <th>CENTROID_ID</th>\n      <th>fullVisitorID</th>\n      <th>Hashed_fullVisitorID</th>\n      <th>OS</th>\n      <th>Apparel</th>\n      <th>Office</th>\n      <th>Electronics</th>\n      <th>LimitedSupply</th>\n      <th>Accessories</th>\n      <th>ShopByBrand</th>\n      <th>Bags</th>\n      <th>totalSpent_USD</th>\n      <th>gender</th>\n      <th>hhi</th>\n    </tr>\n  </thead>\n  <tbody>\n    <tr>\n      <th>0</th>\n      <td>4</td>\n      <td>8801752590982652761</td>\n      <td>196041485918610155</td>\n      <td>Windows</td>\n      <td>0</td>\n      <td>0</td>\n      <td>0</td>\n      <td>0</td>\n      <td>0</td>\n      <td>0</td>\n      <td>0</td>\n      <td>1.99</td>\n      <td>F</td>\n      <td>75000</td>\n    </tr>\n    <tr>\n      <th>1</th>\n      <td>4</td>\n      <td>8355103612289837568</td>\n      <td>4517905322618972303</td>\n      <td>Chrome OS</td>\n      <td>0</td>\n      <td>0</td>\n      <td>0</td>\n      <td>0</td>\n      <td>1</td>\n      <td>0</td>\n      <td>0</td>\n      <td>1.99</td>\n      <td>F</td>\n      <td>75000</td>\n    </tr>\n    <tr>\n      <th>2</th>\n      <td>2</td>\n      <td>1441301506965036346</td>\n      <td>8200515500173555177</td>\n      <td>Macintosh</td>\n      <td>0</td>\n      <td>0</td>\n      <td>2</td>\n      <td>2</td>\n      <td>0</td>\n      <td>0</td>\n      <td>0</td>\n      <td>279.96</td>\n      <td>F</td>\n      <td>85000</td>\n    </tr>\n    <tr>\n      <th>3</th>\n      <td>2</td>\n      <td>3339969886638037862</td>\n      <td>7119993913153820257</td>\n      <td>Macintosh</td>\n      <td>19</td>\n      <td>3</td>\n      <td>4</td>\n      <td>0</td>\n      <td>0</td>\n      <td>0</td>\n      <td>1</td>\n      <td>937.25</td>\n      <td>F</td>\n      <td>85000</td>\n    </tr>\n    <tr>\n      <th>4</th>\n      <td>4</td>\n      <td>9389436583324779454</td>\n      <td>8827930720867903173</td>\n      <td>iOS</td>\n      <td>1</td>\n      <td>0</td>\n      <td>0</td>\n      <td>0</td>\n      <td>0</td>\n      <td>0</td>\n      <td>0</td>\n      <td>16.99</td>\n      <td>F</td>\n      <td>75000</td>\n    </tr>\n    <tr>\n      <th>5</th>\n      <td>4</td>\n      <td>2166569655396368369</td>\n      <td>2074409771222667143</td>\n      <td>Linux</td>\n      <td>0</td>\n      <td>1</td>\n      <td>0</td>\n      <td>0</td>\n      <td>0</td>\n      <td>0</td>\n      <td>0</td>\n      <td>10.99</td>\n      <td>F</td>\n      <td>75000</td>\n    </tr>\n    <tr>\n      <th>6</th>\n      <td>4</td>\n      <td>7770850576523573713</td>\n      <td>1555529942794677513</td>\n      <td>iOS</td>\n      <td>0</td>\n      <td>0</td>\n      <td>0</td>\n      <td>0</td>\n      <td>0</td>\n      <td>0</td>\n      <td>0</td>\n      <td>30.99</td>\n      <td>F</td>\n      <td>75000</td>\n    </tr>\n    <tr>\n      <th>7</th>\n      <td>4</td>\n      <td>716411375745885143</td>\n      <td>4753108492443265215</td>\n      <td>iOS</td>\n      <td>0</td>\n      <td>0</td>\n      <td>0</td>\n      <td>0</td>\n      <td>0</td>\n      <td>0</td>\n      <td>0</td>\n      <td>425.00</td>\n      <td>F</td>\n      <td>75000</td>\n    </tr>\n    <tr>\n      <th>8</th>\n      <td>4</td>\n      <td>8736975165909803047</td>\n      <td>6058487005608912672</td>\n      <td>Chrome OS</td>\n      <td>0</td>\n      <td>0</td>\n      <td>1</td>\n      <td>0</td>\n      <td>0</td>\n      <td>0</td>\n      <td>0</td>\n      <td>59.99</td>\n      <td>M</td>\n      <td>65000</td>\n    </tr>\n    <tr>\n      <th>9</th>\n      <td>4</td>\n      <td>2917270086618932592</td>\n      <td>4544744736098108722</td>\n      <td>Macintosh</td>\n      <td>1</td>\n      <td>0</td>\n      <td>0</td>\n      <td>0</td>\n      <td>0</td>\n      <td>0</td>\n      <td>0</td>\n      <td>64.99</td>\n      <td>M</td>\n      <td>65000</td>\n    </tr>\n  </tbody>\n</table>\n</div>"
     },
     "execution_count": 42,
     "metadata": {},
     "output_type": "execute_result"
    }
   ],
   "source": [
    "# Use your selected model to assign users into clusters that you can then use for marketing segmentation.\n",
    "\n",
    "sql_score = f'''\n",
    "SELECT * EXCEPT(nearest_centroids_distance)\n",
    "FROM\n",
    "  ML.PREDICT(MODEL {final_model},\n",
    "    (\n",
    "    SELECT\n",
    "      *\n",
    "    FROM\n",
    "      {final_view.full_table_id.replace(\":\", \".\")}\n",
    "      LIMIT 10))\n",
    "'''\n",
    "\n",
    "job_config = bigquery.QueryJobConfig()\n",
    "\n",
    "# Start the query\n",
    "query_job = client.query(sql_score, job_config=job_config)\n",
    "df_score = query_job.result()\n",
    "df_score = df_score.to_dataframe()\n",
    "\n",
    "df_score"
   ],
   "metadata": {
    "collapsed": false,
    "pycharm": {
     "name": "#%%\n"
    }
   }
  },
  {
   "cell_type": "markdown",
   "source": [
    "# Export data to Google Analytics 360\n",
    "\n",
    "After you have cluster information for your customers from your k-means model, you can export it to Analytics 360 for use in marketing campaigns."
   ],
   "metadata": {
    "collapsed": false,
    "pycharm": {
     "name": "#%% md\n"
    }
   }
  },
  {
   "cell_type": "code",
   "execution_count": 46,
   "outputs": [
    {
     "name": "stdout",
     "output_type": "stream",
     "text": [
      "CREATE OR REPLACE TABLE `my-bq-project-338012`.`kmeans`.myCustomerDataTable AS (\n",
      "SELECT * EXCEPT(nearest_centroids_distance)\n",
      "FROM\n",
      "ML.PREDICT(MODEL `kmeans.kmeans_clusters_4`,\n",
      "                 (\n",
      "                         SELECT\n",
      "                         *\n",
      "                         FROM\n",
      "                     `my-bq-project-338012.kmeans.Final_View`)))\n"
     ]
    }
   ],
   "source": [
    "DATASET_ID = 'kmeans'\n",
    "\n",
    "sql = f'''CREATE OR REPLACE TABLE `{PROJECT_ID}`.`{DATASET_ID}`.myCustomerDataTable AS (\n",
    "SELECT * EXCEPT(nearest_centroids_distance)\n",
    "FROM\n",
    "ML.PREDICT(MODEL `{final_model}`,\n",
    "                 (\n",
    "                         SELECT\n",
    "                         *\n",
    "                         FROM\n",
    "                     `{final_view.full_table_id.replace(\":\", \".\")}`)))'''\n",
    "\n",
    "print(sql)"
   ],
   "metadata": {
    "collapsed": false,
    "pycharm": {
     "name": "#%%\n"
    }
   }
  },
  {
   "cell_type": "code",
   "execution_count": 47,
   "outputs": [
    {
     "data": {
      "text/plain": "Empty DataFrame\nColumns: []\nIndex: []",
      "text/html": "<div>\n<style scoped>\n    .dataframe tbody tr th:only-of-type {\n        vertical-align: middle;\n    }\n\n    .dataframe tbody tr th {\n        vertical-align: top;\n    }\n\n    .dataframe thead th {\n        text-align: right;\n    }\n</style>\n<table border=\"1\" class=\"dataframe\">\n  <thead>\n    <tr style=\"text-align: right;\">\n      <th></th>\n    </tr>\n  </thead>\n  <tbody>\n  </tbody>\n</table>\n</div>"
     },
     "execution_count": 47,
     "metadata": {},
     "output_type": "execute_result"
    }
   ],
   "source": [
    "job_config = bigquery.QueryJobConfig()\n",
    "query_job = client.query(sql, job_config=job_config)"
   ],
   "metadata": {
    "collapsed": false,
    "pycharm": {
     "name": "#%%\n"
    }
   }
  },
  {
   "cell_type": "code",
   "execution_count": 49,
   "outputs": [
    {
     "name": "stdout",
     "output_type": "stream",
     "text": [
      "<google.cloud.bigquery.table._EmptyRowIterator object at 0x7f95a0a7c700>\n"
     ]
    }
   ],
   "source": [
    "print(query_job.result())"
   ],
   "metadata": {
    "collapsed": false,
    "pycharm": {
     "name": "#%%\n"
    }
   }
  },
  {
   "cell_type": "markdown",
   "source": [
    "# Predicted data exported to Google Analytics 360\n",
    "\n",
    "This is how the data will look when it is exported into Google Analytics 360. From here on, you can create reports in Google Analytics 360 that will provide you with the relevant actionable information to use in your campaigns.\n",
    "\n",
    "![](predicted-data.png)"
   ],
   "metadata": {
    "collapsed": false,
    "pycharm": {
     "name": "#%% md\n"
    }
   }
  },
  {
   "cell_type": "markdown",
   "source": [
    "# Clean Up\n",
    "\n",
    "This solution uses background compute resources in Google Cloud Platform which keep accumulating costs even when they are idle. To avoid getting charged unnecessarily it is important that you clean up after you are done with the prediction.\n",
    "\n",
    "A simple project **shutdown** on Google Cloud Platform will be sufficient to ensure you do not get charged.\n",
    "\n",
    " ![](shutdown.png)"
   ],
   "metadata": {
    "collapsed": false,
    "pycharm": {
     "name": "#%% md\n"
    }
   }
  },
  {
   "cell_type": "markdown",
   "id": "752a53fa-1367-48f6-affe-cb5aa5f47deb",
   "metadata": {
    "pycharm": {
     "name": "#%% md\n"
    }
   },
   "source": [
    "-- END"
   ]
  },
  {
   "cell_type": "code",
   "execution_count": null,
   "outputs": [],
   "source": [],
   "metadata": {
    "collapsed": false,
    "pycharm": {
     "name": "#%%\n"
    }
   }
  }
 ],
 "metadata": {
  "kernelspec": {
   "display_name": "Python 3",
   "language": "python",
   "name": "python3"
  },
  "language_info": {
   "codemirror_mode": {
    "name": "ipython",
    "version": 3
   },
   "file_extension": ".py",
   "mimetype": "text/x-python",
   "name": "python",
   "nbconvert_exporter": "python",
   "pygments_lexer": "ipython3",
   "version": "3.9.4"
  }
 },
 "nbformat": 4,
 "nbformat_minor": 5
}